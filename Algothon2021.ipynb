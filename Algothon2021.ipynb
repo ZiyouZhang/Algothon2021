{
  "nbformat": 4,
  "nbformat_minor": 0,
  "metadata": {
    "accelerator": "GPU",
    "colab": {
      "name": "Algothon2021.ipynb",
      "provenance": [],
      "collapsed_sections": [
        "HGf5o179jNvD",
        "0ji-Z4O3Jze4",
        "tJdFMVGUKDpb",
        "q2YWnC_-aMsJ"
      ],
      "include_colab_link": true
    },
    "kernelspec": {
      "display_name": "Python 3",
      "name": "python3"
    },
    "language_info": {
      "name": "python"
    }
  },
  "cells": [
    {
      "cell_type": "markdown",
      "metadata": {
        "id": "view-in-github",
        "colab_type": "text"
      },
      "source": [
        "<a href=\"https://colab.research.google.com/github/ZiyouZhang/Algothon2021/blob/main/Algothon2021.ipynb\" target=\"_parent\"><img src=\"https://colab.research.google.com/assets/colab-badge.svg\" alt=\"Open In Colab\"/></a>"
      ]
    },
    {
      "cell_type": "markdown",
      "metadata": {
        "id": "ExcgzeQjiBve"
      },
      "source": [
        "# Preparation"
      ]
    },
    {
      "cell_type": "code",
      "metadata": {
        "colab": {
          "base_uri": "https://localhost:8080/"
        },
        "id": "0mIUUPyUJSD0",
        "outputId": "872345bd-dc56-452d-f688-3711219223ef"
      },
      "source": [
        "pip install --index-url https://test.pypi.org/simple/ --no-deps --upgrade  --force-reinstall algothon2021 "
      ],
      "execution_count": null,
      "outputs": [
        {
          "output_type": "stream",
          "text": [
            "Looking in indexes: https://test.pypi.org/simple/\n",
            "Collecting algothon2021\n",
            "\u001b[?25l  Downloading https://test-files.pythonhosted.org/packages/c9/4a/040719980a609c107b3b4fc0bc431600559e68f8f83b5629efb81b6afe63/algothon2021-0.0.6-py3-none-any.whl (74.5MB)\n",
            "\u001b[K     |████████████████████████████████| 74.6MB 38kB/s \n",
            "\u001b[?25hInstalling collected packages: algothon2021\n",
            "Successfully installed algothon2021-0.0.6\n"
          ],
          "name": "stdout"
        }
      ]
    },
    {
      "cell_type": "code",
      "metadata": {
        "colab": {
          "base_uri": "https://localhost:8080/"
        },
        "id": "zakFy4hgmk8b",
        "outputId": "11210682-851f-446d-9e61-8e9e89024fc5"
      },
      "source": [
        "from google.colab import drive\n",
        "drive.mount('/content/drive')"
      ],
      "execution_count": null,
      "outputs": [
        {
          "output_type": "stream",
          "text": [
            "Mounted at /content/drive\n"
          ],
          "name": "stdout"
        }
      ]
    },
    {
      "cell_type": "code",
      "metadata": {
        "colab": {
          "base_uri": "https://localhost:8080/"
        },
        "id": "fkAF8Fnh-dF5",
        "outputId": "39b8cb3d-17d3-4697-bc2c-19ae5992d1c1"
      },
      "source": [
        "import torch\n",
        "\n",
        "if torch.cuda.is_available():     \n",
        "    device = torch.device(\"cuda\")\n",
        "\n",
        "    print('There are %d GPU(s) available.' % torch.cuda.device_count())\n",
        "    print('We will use the GPU:', torch.cuda.get_device_name(0))\n",
        "\n",
        "else:\n",
        "    print('No GPU available, using the CPU instead.')\n",
        "    device = torch.device(\"cpu\")"
      ],
      "execution_count": null,
      "outputs": [
        {
          "output_type": "stream",
          "text": [
            "There are 1 GPU(s) available.\n",
            "We will use the GPU: Tesla P100-PCIE-16GB\n"
          ],
          "name": "stdout"
        }
      ]
    },
    {
      "cell_type": "code",
      "metadata": {
        "id": "5pGr8Omyoqu6"
      },
      "source": [
        "FOLDER_PATH = \"drive/MyDrive/algothon_2021/\""
      ],
      "execution_count": null,
      "outputs": []
    },
    {
      "cell_type": "markdown",
      "metadata": {
        "id": "HGf5o179jNvD"
      },
      "source": [
        "# Latency Challenge"
      ]
    },
    {
      "cell_type": "code",
      "metadata": {
        "id": "eEd7wjHIjg7n"
      },
      "source": [
        "from statsmodels.tsa.arima_model import ARIMA\n",
        "from random import random\n",
        "import pandas as pd\n"
      ],
      "execution_count": null,
      "outputs": []
    },
    {
      "cell_type": "code",
      "metadata": {
        "colab": {
          "base_uri": "https://localhost:8080/"
        },
        "id": "oAR8noRVlI9v",
        "outputId": "0c500a94-a298-450b-dbe1-ba1e5fb311b2"
      },
      "source": [
        "data = pd.read_csv(FOLDER_PATH+'LatencyTraining.csv')\n",
        "data = data.iloc[:, 1:]\n",
        "\n",
        "# fit model\n",
        "model = ARIMA(data, order=(1, 1, 1))\n",
        "model_fit = model.fit()\n",
        "yhat = model_fit.predict(len(data), len(data), typ='levels')\n",
        "print(yhat)"
      ],
      "execution_count": null,
      "outputs": [
        {
          "output_type": "stream",
          "text": [
            "1826   -0.001169\n",
            "dtype: float64\n"
          ],
          "name": "stdout"
        }
      ]
    },
    {
      "cell_type": "markdown",
      "metadata": {
        "id": "0ji-Z4O3Jze4"
      },
      "source": [
        "# Data Cleaning"
      ]
    },
    {
      "cell_type": "code",
      "metadata": {
        "id": "r5wnrcTa-zjL"
      },
      "source": [
        "import pandas as pd\n",
        "import matplotlib.pyplot as plt"
      ],
      "execution_count": null,
      "outputs": []
    },
    {
      "cell_type": "code",
      "metadata": {
        "id": "f4WivFd-DjW0"
      },
      "source": [
        "data = pd.read_csv(FOLDER_PATH+\"data_clean.csv\")"
      ],
      "execution_count": null,
      "outputs": []
    },
    {
      "cell_type": "code",
      "metadata": {
        "colab": {
          "base_uri": "https://localhost:8080/",
          "height": 417
        },
        "id": "VTm39NvZDouh",
        "outputId": "58d0c718-a73a-4c1c-c894-5222b46ef984"
      },
      "source": [
        "data"
      ],
      "execution_count": null,
      "outputs": [
        {
          "output_type": "execute_result",
          "data": {
            "text/html": [
              "<div>\n",
              "<style scoped>\n",
              "    .dataframe tbody tr th:only-of-type {\n",
              "        vertical-align: middle;\n",
              "    }\n",
              "\n",
              "    .dataframe tbody tr th {\n",
              "        vertical-align: top;\n",
              "    }\n",
              "\n",
              "    .dataframe thead th {\n",
              "        text-align: right;\n",
              "    }\n",
              "</style>\n",
              "<table border=\"1\" class=\"dataframe\">\n",
              "  <thead>\n",
              "    <tr style=\"text-align: right;\">\n",
              "      <th></th>\n",
              "      <th>Series 1</th>\n",
              "    </tr>\n",
              "  </thead>\n",
              "  <tbody>\n",
              "    <tr>\n",
              "      <th>0</th>\n",
              "      <td>2397.167568</td>\n",
              "    </tr>\n",
              "    <tr>\n",
              "      <th>1</th>\n",
              "      <td>2371.333300</td>\n",
              "    </tr>\n",
              "    <tr>\n",
              "      <th>2</th>\n",
              "      <td>2573.025408</td>\n",
              "    </tr>\n",
              "    <tr>\n",
              "      <th>3</th>\n",
              "      <td>NaN</td>\n",
              "    </tr>\n",
              "    <tr>\n",
              "      <th>4</th>\n",
              "      <td>2574.872476</td>\n",
              "    </tr>\n",
              "    <tr>\n",
              "      <th>...</th>\n",
              "      <td>...</td>\n",
              "    </tr>\n",
              "    <tr>\n",
              "      <th>2512</th>\n",
              "      <td>NaN</td>\n",
              "    </tr>\n",
              "    <tr>\n",
              "      <th>2513</th>\n",
              "      <td>-999.167188</td>\n",
              "    </tr>\n",
              "    <tr>\n",
              "      <th>2514</th>\n",
              "      <td>-1018.355861</td>\n",
              "    </tr>\n",
              "    <tr>\n",
              "      <th>2515</th>\n",
              "      <td>-1013.176196</td>\n",
              "    </tr>\n",
              "    <tr>\n",
              "      <th>2516</th>\n",
              "      <td>-1029.957310</td>\n",
              "    </tr>\n",
              "  </tbody>\n",
              "</table>\n",
              "<p>2517 rows × 1 columns</p>\n",
              "</div>"
            ],
            "text/plain": [
              "         Series 1\n",
              "0     2397.167568\n",
              "1     2371.333300\n",
              "2     2573.025408\n",
              "3             NaN\n",
              "4     2574.872476\n",
              "...           ...\n",
              "2512          NaN\n",
              "2513  -999.167188\n",
              "2514 -1018.355861\n",
              "2515 -1013.176196\n",
              "2516 -1029.957310\n",
              "\n",
              "[2517 rows x 1 columns]"
            ]
          },
          "metadata": {
            "tags": []
          },
          "execution_count": 7
        }
      ]
    },
    {
      "cell_type": "code",
      "metadata": {
        "colab": {
          "base_uri": "https://localhost:8080/",
          "height": 282
        },
        "id": "-TA_zTxtE9R1",
        "outputId": "c5473c81-989f-4f20-c4f2-5828b5e5d3d3"
      },
      "source": [
        "data.plot()"
      ],
      "execution_count": null,
      "outputs": [
        {
          "output_type": "execute_result",
          "data": {
            "text/plain": [
              "<matplotlib.axes._subplots.AxesSubplot at 0x7f45faf22590>"
            ]
          },
          "metadata": {
            "tags": []
          },
          "execution_count": 8
        },
        {
          "output_type": "display_data",
          "data": {
            "image/png": "[encoded data removed]",
            "text/plain": [
              "<Figure size 432x288 with 1 Axes>"
            ]
          },
          "metadata": {
            "tags": []
          }
        }
      ]
    },
    {
      "cell_type": "code",
      "metadata": {
        "colab": {
          "base_uri": "https://localhost:8080/",
          "height": 282
        },
        "id": "_ZR5xEafuITu",
        "outputId": "5e1f5ca6-c358-4622-c8b2-404ce6f5eb87"
      },
      "source": [
        "for i in range(1, data['Series 1'].size):\n",
        "  if pd.isna(data['Series 1'][i]):\n",
        "    data['Series 1'][i] = data['Series 1'][i-1]\n",
        "\n",
        "data.plot()"
      ],
      "execution_count": null,
      "outputs": [
        {
          "output_type": "execute_result",
          "data": {
            "text/plain": [
              "<matplotlib.axes._subplots.AxesSubplot at 0x7f45fadf8d90>"
            ]
          },
          "metadata": {
            "tags": []
          },
          "execution_count": 9
        },
        {
          "output_type": "display_data",
          "data": {
            "image/png": "[encoded data removed]",
            "text/plain": [
              "<Figure size 432x288 with 1 Axes>"
            ]
          },
          "metadata": {
            "tags": []
          }
        }
      ]
    },
    {
      "cell_type": "code",
      "metadata": {
        "colab": {
          "base_uri": "https://localhost:8080/",
          "height": 283
        },
        "id": "E_5w_s19PYxm",
        "outputId": "38cf6354-8a6b-4fca-86b2-71b82e38b9a4"
      },
      "source": [
        "for i in range(1,1495):\n",
        "  if abs(data['Series 1'][i] - data['Series 1'][i-1]) > 500:\n",
        "    data['Series 1'][i] = data['Series 1'][i-1]\n",
        "\n",
        "for i in range(1503,1595):\n",
        "  if abs(data['Series 1'][i] - data['Series 1'][i-1]) > 500:\n",
        "    data['Series 1'][i] = data['Series 1'][i-1]\n",
        "\n",
        "for i in range(1602,1895):\n",
        "  if abs(data['Series 1'][i] - data['Series 1'][i-1]) > 500:\n",
        "    data['Series 1'][i] = data['Series 1'][i-1]\n",
        "\n",
        "for i in range(1905,data['Series 1'].size):\n",
        "  if abs(data['Series 1'][i] - data['Series 1'][i-1]) > 500:\n",
        "    data['Series 1'][i] = data['Series 1'][i-1]\n",
        "\n",
        "data.plot()"
      ],
      "execution_count": null,
      "outputs": [
        {
          "output_type": "execute_result",
          "data": {
            "text/plain": [
              "<matplotlib.axes._subplots.AxesSubplot at 0x7f45faf22550>"
            ]
          },
          "metadata": {
            "tags": []
          },
          "execution_count": 10
        },
        {
          "output_type": "display_data",
          "data": {
            "image/png": "[encoded data removed]",
            "text/plain": [
              "<Figure size 432x288 with 1 Axes>"
            ]
          },
          "metadata": {
            "tags": []
          }
        }
      ]
    },
    {
      "cell_type": "code",
      "metadata": {
        "id": "hvZqVrv4MGpj"
      },
      "source": [
        "data.to_csv('zzdl_data_cleaning.csv',index=False)"
      ],
      "execution_count": null,
      "outputs": []
    },
    {
      "cell_type": "code",
      "metadata": {
        "colab": {
          "base_uri": "https://localhost:8080/",
          "height": 293
        },
        "id": "Rg28DzoJNAcO",
        "outputId": "faa6998f-7b95-45c9-8ff0-0783316e3864"
      },
      "source": [
        "balance = []\n",
        "balance.append(0)\n",
        "for i in range(data['Series 1'].size):\n",
        "  balance.append(balance[i] + data['Series 1'][i])\n",
        "\n",
        "plt.plot(balance)"
      ],
      "execution_count": null,
      "outputs": [
        {
          "output_type": "execute_result",
          "data": {
            "text/plain": [
              "[<matplotlib.lines.Line2D at 0x7f45fa82f250>]"
            ]
          },
          "metadata": {
            "tags": []
          },
          "execution_count": 12
        },
        {
          "output_type": "display_data",
          "data": {
            "image/png": "[encoded data removed]",
            "text/plain": [
              "<Figure size 432x288 with 1 Axes>"
            ]
          },
          "metadata": {
            "tags": []
          }
        }
      ]
    },
    {
      "cell_type": "markdown",
      "metadata": {
        "id": "tJdFMVGUKDpb"
      },
      "source": [
        "# Long-Short Sector Strategy"
      ]
    },
    {
      "cell_type": "code",
      "metadata": {
        "id": "t0PMFV8GKGVW"
      },
      "source": [
        "from algothon2021long_short import LongShort\n",
        "import numpy as np\n",
        "import pandas as pd"
      ],
      "execution_count": null,
      "outputs": []
    },
    {
      "cell_type": "code",
      "metadata": {
        "id": "H9ERLvpYJ_ST"
      },
      "source": [
        "class myLongShort(LongShort):\n",
        "    def __init__(self, **params):\n",
        "        super(myLongShort, self).__init__(**params)\n",
        "\n",
        "        # these variables can help you identify the asset and day that you are predicting for\n",
        "\n",
        "        self.asset = 1 # asset number, going from 1 to 5\n",
        "        self.day = 1 # day at which you are predicting of the series\n",
        "        self.validate_max_days = 377 # number of days available per asset in the validation set\n",
        "        self.test_max_days = 376 # number of days available per asset in the test set\n",
        "\n",
        "        self.predictions = np.zeros((self.validate_max_days, 5)) # array that mirros the predictions of the API\n",
        "\n",
        "    def predict(self, data):\n",
        "\n",
        "        # the run_validate and run_test functions take one asset and predict their weightings \n",
        "        # for all time indices before moving on to the next asset. This can make it harder to keep\n",
        "        # the neutrality constraint. \n",
        "\n",
        "        # these if statements are iterating through the dataset, so that you know the asset and time index\n",
        "        # that you are predicting for.\n",
        "\n",
        "        if self.day < self.validate_max_days: # set this to self.test_max_days if using run_test()\n",
        "            #print(\"Predicting for Asset {}\".format(self.asset), \"at Day {}\".format(self.day))\n",
        "            self.day += 1\n",
        "            self.predictions[self.day-1, self.asset-2] = np.random.random() # you can compute your weights here\n",
        "\n",
        "        elif self.day == self.validate_max_days and self.asset < 5:\n",
        "            self.asset += 1\n",
        "            #print(\"Predicting for Asset {}\".format(self.asset), \"at Day {}\".format(self.day))\n",
        "            self.day = 1\n",
        "            self.predictions[self.day-1, self.asset-2] = np.random.random() # you can compute your weights also here\n",
        "\n",
        "        else:\n",
        "            for i in range(self.predictions.shape[0]):\n",
        "                self.predictions[i, :] -= np.mean(self.predictions[i, :]) # subtract the mean to impose neutrality\n",
        "                #print(np.sum(self.predictions[i, :])) # check for neutrality\n",
        "\n",
        "            pred_df = pd.DataFrame(self.predictions, columns = [\"Asset {}\".format(j) for j in range(1, 6)])\n",
        "            pred_df.to_csv(\"validation_predictions_overwrite.csv\", index=False)\n",
        "\n",
        "        return 0"
      ],
      "execution_count": null,
      "outputs": []
    },
    {
      "cell_type": "code",
      "metadata": {
        "id": "H4WmIE_NKDRo"
      },
      "source": [
        "model = myLongShort(sector=1,validation_predictions_file=\"zzdl_validation_long_short.csv\",test_predictions_file=\"zzdl_test_long_short.csv\")"
      ],
      "execution_count": null,
      "outputs": []
    },
    {
      "cell_type": "code",
      "metadata": {
        "colab": {
          "base_uri": "https://localhost:8080/",
          "height": 417
        },
        "id": "tMe-7aNpKG-R",
        "outputId": "c5157093-4e9c-4798-f856-1af31a354ea5"
      },
      "source": [
        "model.run_validate()"
      ],
      "execution_count": null,
      "outputs": [
        {
          "output_type": "execute_result",
          "data": {
            "text/html": [
              "<div>\n",
              "<style scoped>\n",
              "    .dataframe tbody tr th:only-of-type {\n",
              "        vertical-align: middle;\n",
              "    }\n",
              "\n",
              "    .dataframe tbody tr th {\n",
              "        vertical-align: top;\n",
              "    }\n",
              "\n",
              "    .dataframe thead th {\n",
              "        text-align: right;\n",
              "    }\n",
              "</style>\n",
              "<table border=\"1\" class=\"dataframe\">\n",
              "  <thead>\n",
              "    <tr style=\"text-align: right;\">\n",
              "      <th></th>\n",
              "      <th>1</th>\n",
              "      <th>2</th>\n",
              "      <th>3</th>\n",
              "      <th>4</th>\n",
              "      <th>5</th>\n",
              "    </tr>\n",
              "  </thead>\n",
              "  <tbody>\n",
              "    <tr>\n",
              "      <th>0</th>\n",
              "      <td>0</td>\n",
              "      <td>0</td>\n",
              "      <td>0</td>\n",
              "      <td>0</td>\n",
              "      <td>0</td>\n",
              "    </tr>\n",
              "    <tr>\n",
              "      <th>1</th>\n",
              "      <td>0</td>\n",
              "      <td>0</td>\n",
              "      <td>0</td>\n",
              "      <td>0</td>\n",
              "      <td>0</td>\n",
              "    </tr>\n",
              "    <tr>\n",
              "      <th>2</th>\n",
              "      <td>0</td>\n",
              "      <td>0</td>\n",
              "      <td>0</td>\n",
              "      <td>0</td>\n",
              "      <td>0</td>\n",
              "    </tr>\n",
              "    <tr>\n",
              "      <th>3</th>\n",
              "      <td>0</td>\n",
              "      <td>0</td>\n",
              "      <td>0</td>\n",
              "      <td>0</td>\n",
              "      <td>0</td>\n",
              "    </tr>\n",
              "    <tr>\n",
              "      <th>4</th>\n",
              "      <td>0</td>\n",
              "      <td>0</td>\n",
              "      <td>0</td>\n",
              "      <td>0</td>\n",
              "      <td>0</td>\n",
              "    </tr>\n",
              "    <tr>\n",
              "      <th>...</th>\n",
              "      <td>...</td>\n",
              "      <td>...</td>\n",
              "      <td>...</td>\n",
              "      <td>...</td>\n",
              "      <td>...</td>\n",
              "    </tr>\n",
              "    <tr>\n",
              "      <th>372</th>\n",
              "      <td>0</td>\n",
              "      <td>0</td>\n",
              "      <td>0</td>\n",
              "      <td>0</td>\n",
              "      <td>0</td>\n",
              "    </tr>\n",
              "    <tr>\n",
              "      <th>373</th>\n",
              "      <td>0</td>\n",
              "      <td>0</td>\n",
              "      <td>0</td>\n",
              "      <td>0</td>\n",
              "      <td>0</td>\n",
              "    </tr>\n",
              "    <tr>\n",
              "      <th>374</th>\n",
              "      <td>0</td>\n",
              "      <td>0</td>\n",
              "      <td>0</td>\n",
              "      <td>0</td>\n",
              "      <td>0</td>\n",
              "    </tr>\n",
              "    <tr>\n",
              "      <th>375</th>\n",
              "      <td>0</td>\n",
              "      <td>0</td>\n",
              "      <td>0</td>\n",
              "      <td>0</td>\n",
              "      <td>0</td>\n",
              "    </tr>\n",
              "    <tr>\n",
              "      <th>376</th>\n",
              "      <td>0</td>\n",
              "      <td>0</td>\n",
              "      <td>0</td>\n",
              "      <td>0</td>\n",
              "      <td>0</td>\n",
              "    </tr>\n",
              "  </tbody>\n",
              "</table>\n",
              "<p>377 rows × 5 columns</p>\n",
              "</div>"
            ],
            "text/plain": [
              "     1  2  3  4  5\n",
              "0    0  0  0  0  0\n",
              "1    0  0  0  0  0\n",
              "2    0  0  0  0  0\n",
              "3    0  0  0  0  0\n",
              "4    0  0  0  0  0\n",
              "..  .. .. .. .. ..\n",
              "372  0  0  0  0  0\n",
              "373  0  0  0  0  0\n",
              "374  0  0  0  0  0\n",
              "375  0  0  0  0  0\n",
              "376  0  0  0  0  0\n",
              "\n",
              "[377 rows x 5 columns]"
            ]
          },
          "metadata": {
            "tags": []
          },
          "execution_count": 8
        }
      ]
    },
    {
      "cell_type": "code",
      "metadata": {
        "colab": {
          "base_uri": "https://localhost:8080/",
          "height": 417
        },
        "id": "YaOxY8brKJ1_",
        "outputId": "e6daadea-ad4b-40d9-c6d6-e2f70d8b5276"
      },
      "source": [
        "model.run_test()"
      ],
      "execution_count": null,
      "outputs": [
        {
          "output_type": "execute_result",
          "data": {
            "text/html": [
              "<div>\n",
              "<style scoped>\n",
              "    .dataframe tbody tr th:only-of-type {\n",
              "        vertical-align: middle;\n",
              "    }\n",
              "\n",
              "    .dataframe tbody tr th {\n",
              "        vertical-align: top;\n",
              "    }\n",
              "\n",
              "    .dataframe thead th {\n",
              "        text-align: right;\n",
              "    }\n",
              "</style>\n",
              "<table border=\"1\" class=\"dataframe\">\n",
              "  <thead>\n",
              "    <tr style=\"text-align: right;\">\n",
              "      <th></th>\n",
              "      <th>1</th>\n",
              "      <th>2</th>\n",
              "      <th>3</th>\n",
              "      <th>4</th>\n",
              "      <th>5</th>\n",
              "    </tr>\n",
              "  </thead>\n",
              "  <tbody>\n",
              "    <tr>\n",
              "      <th>0</th>\n",
              "      <td>0</td>\n",
              "      <td>0</td>\n",
              "      <td>0</td>\n",
              "      <td>0</td>\n",
              "      <td>0</td>\n",
              "    </tr>\n",
              "    <tr>\n",
              "      <th>1</th>\n",
              "      <td>0</td>\n",
              "      <td>0</td>\n",
              "      <td>0</td>\n",
              "      <td>0</td>\n",
              "      <td>0</td>\n",
              "    </tr>\n",
              "    <tr>\n",
              "      <th>2</th>\n",
              "      <td>0</td>\n",
              "      <td>0</td>\n",
              "      <td>0</td>\n",
              "      <td>0</td>\n",
              "      <td>0</td>\n",
              "    </tr>\n",
              "    <tr>\n",
              "      <th>3</th>\n",
              "      <td>0</td>\n",
              "      <td>0</td>\n",
              "      <td>0</td>\n",
              "      <td>0</td>\n",
              "      <td>0</td>\n",
              "    </tr>\n",
              "    <tr>\n",
              "      <th>4</th>\n",
              "      <td>0</td>\n",
              "      <td>0</td>\n",
              "      <td>0</td>\n",
              "      <td>0</td>\n",
              "      <td>0</td>\n",
              "    </tr>\n",
              "    <tr>\n",
              "      <th>...</th>\n",
              "      <td>...</td>\n",
              "      <td>...</td>\n",
              "      <td>...</td>\n",
              "      <td>...</td>\n",
              "      <td>...</td>\n",
              "    </tr>\n",
              "    <tr>\n",
              "      <th>371</th>\n",
              "      <td>0</td>\n",
              "      <td>0</td>\n",
              "      <td>0</td>\n",
              "      <td>0</td>\n",
              "      <td>0</td>\n",
              "    </tr>\n",
              "    <tr>\n",
              "      <th>372</th>\n",
              "      <td>0</td>\n",
              "      <td>0</td>\n",
              "      <td>0</td>\n",
              "      <td>0</td>\n",
              "      <td>0</td>\n",
              "    </tr>\n",
              "    <tr>\n",
              "      <th>373</th>\n",
              "      <td>0</td>\n",
              "      <td>0</td>\n",
              "      <td>0</td>\n",
              "      <td>0</td>\n",
              "      <td>0</td>\n",
              "    </tr>\n",
              "    <tr>\n",
              "      <th>374</th>\n",
              "      <td>0</td>\n",
              "      <td>0</td>\n",
              "      <td>0</td>\n",
              "      <td>0</td>\n",
              "      <td>0</td>\n",
              "    </tr>\n",
              "    <tr>\n",
              "      <th>375</th>\n",
              "      <td>0</td>\n",
              "      <td>0</td>\n",
              "      <td>0</td>\n",
              "      <td>0</td>\n",
              "      <td>0</td>\n",
              "    </tr>\n",
              "  </tbody>\n",
              "</table>\n",
              "<p>376 rows × 5 columns</p>\n",
              "</div>"
            ],
            "text/plain": [
              "     1  2  3  4  5\n",
              "0    0  0  0  0  0\n",
              "1    0  0  0  0  0\n",
              "2    0  0  0  0  0\n",
              "3    0  0  0  0  0\n",
              "4    0  0  0  0  0\n",
              "..  .. .. .. .. ..\n",
              "371  0  0  0  0  0\n",
              "372  0  0  0  0  0\n",
              "373  0  0  0  0  0\n",
              "374  0  0  0  0  0\n",
              "375  0  0  0  0  0\n",
              "\n",
              "[376 rows x 5 columns]"
            ]
          },
          "metadata": {
            "tags": []
          },
          "execution_count": 9
        }
      ]
    },
    {
      "cell_type": "markdown",
      "metadata": {
        "id": "q2YWnC_-aMsJ"
      },
      "source": [
        "# ML challenge"
      ]
    },
    {
      "cell_type": "code",
      "metadata": {
        "id": "rfv0j-0LauX0"
      },
      "source": [
        "from algothon2021ml import ML\n",
        "import pandas as pd\n",
        "import numpy as np "
      ],
      "execution_count": null,
      "outputs": []
    },
    {
      "cell_type": "code",
      "metadata": {
        "id": "9k60KTEtax-b"
      },
      "source": [
        "class MyPrediction(ML):\n",
        "    def __init__(self,**parms):\n",
        "        super(MyPrediction, self).__init__(**parms)\n",
        "    \n",
        "    def predict(self,data):\n",
        "        return 0"
      ],
      "execution_count": null,
      "outputs": []
    },
    {
      "cell_type": "code",
      "metadata": {
        "id": "v8ai4XBza0Tx"
      },
      "source": [
        "Model = MyPrediction()"
      ],
      "execution_count": null,
      "outputs": []
    },
    {
      "cell_type": "code",
      "metadata": {
        "id": "sb6jKr4ka10E"
      },
      "source": [
        "Model.run_test().to_csv('zzdl_test_ml.csv', index=False)"
      ],
      "execution_count": null,
      "outputs": []
    },
    {
      "cell_type": "code",
      "metadata": {
        "id": "nfQR9hNlbHBL"
      },
      "source": [
        "Model.run_validate().to_csv('zzdl_validation_ml.csv', index=False)"
      ],
      "execution_count": null,
      "outputs": []
    },
    {
      "cell_type": "markdown",
      "metadata": {
        "id": "0btsHwgad8qD"
      },
      "source": [
        "# Prediction challenge"
      ]
    },
    {
      "cell_type": "code",
      "metadata": {
        "id": "O9A5qu_ieNlD"
      },
      "source": [
        "from algothon2021prediction import Prediction\n",
        "import numpy as np\n",
        "import pandas as pd\n",
        "from sklearn.model_selection import train_test_split"
      ],
      "execution_count": null,
      "outputs": []
    },
    {
      "cell_type": "code",
      "metadata": {
        "colab": {
          "base_uri": "https://localhost:8080/"
        },
        "id": "tLe_U9-cMUib",
        "outputId": "85e1411e-c037-4d38-971b-08fa2956e31f"
      },
      "source": [
        "data = pd.read_csv(FOLDER_PATH+'prediction_train_with_targets.csv')\n",
        "print(data.iloc[0:1])"
      ],
      "execution_count": null,
      "outputs": [
        {
          "output_type": "stream",
          "text": [
            "   IV_30.0_-75.0_mean_50  IV_30.0_-50.0_sd_50  ...  high_close_mean_5  target_20\n",
            "0               0.433818             0.032448  ...           1.009478  -0.196104\n",
            "\n",
            "[1 rows x 178 columns]\n"
          ],
          "name": "stdout"
        }
      ]
    },
    {
      "cell_type": "code",
      "metadata": {
        "id": "YvT_KnL5WDGs"
      },
      "source": [
        "# Separate predictors and target\n",
        "X = data.drop(['target_20'], axis = 1)\n",
        "X = X[['open_close_sd_10', 'low_close_mean_5', 'IV_30.0_50.0_sd_50','IV_30.0_25.0_sd_50', 'low_close_mean_10']]\n",
        "y = data.target_20.values.reshape(-1,1)"
      ],
      "execution_count": null,
      "outputs": []
    },
    {
      "cell_type": "code",
      "metadata": {
        "id": "rwE4YirgWZTM"
      },
      "source": [
        "from sklearn.preprocessing import StandardScaler\n",
        "\n",
        "# Fit the scaler to the data, so it defines the transformation the scaler applies to the data\n",
        "scalerX = StandardScaler().fit(X)\n",
        "\n",
        "# Standardize the data by hand\n",
        "X_scaled = scalerX.transform(X)"
      ],
      "execution_count": null,
      "outputs": []
    },
    {
      "cell_type": "code",
      "metadata": {
        "id": "nUsL_Cm6W1dB"
      },
      "source": [
        "# # Principal Component Analysis\n",
        "# from sklearn.decomposition import PCA\n",
        "# from sklearn.linear_model import LinearRegression\n",
        "# from sklearn.metrics import mean_squared_error\n",
        "\n",
        "# pca = PCA()\n",
        "# X_pca = pca.fit_transform(X_scaled)\n",
        "# regr = LinearRegression()"
      ],
      "execution_count": null,
      "outputs": []
    },
    {
      "cell_type": "code",
      "metadata": {
        "id": "Bv9QP5sFNTNr"
      },
      "source": [
        "# from sklearn.feature_selection import RFE\n",
        "# from sklearn.linear_model import LogisticRegression\n",
        "# from sklearn.feature_selection import SelectKBest\n",
        "# from sklearn.feature_selection import f_classif\n",
        "\n",
        "\n",
        "# test = SelectKBest(score_func=f_classif, k=10)\n",
        "# fit = test.fit(X_scaled, y)\n",
        "\n",
        "# # Summarize scores\n",
        "# np.set_printoptions(precision=3)\n",
        "# print(fit.scores_)\n",
        "\n",
        "# features = fit.transform(X)\n",
        "# # Summarize selected features\n",
        "# print(features)\n"
      ],
      "execution_count": null,
      "outputs": []
    },
    {
      "cell_type": "code",
      "metadata": {
        "id": "V3YMuv8xjYiK"
      },
      "source": [
        "import torch\n",
        "import torch.nn as nn\n",
        "import torch.nn.functional as F\n",
        "import torch.optim as optim\n",
        "\n",
        "\n",
        "class NeuralNet(nn.Module):\n",
        "    def __init__(self, input_size):\n",
        "        super(NeuralNet, self).__init__()\n",
        "        self.fc1 = nn.Linear(input_size, input_size * 9)\n",
        "        self.fc2 = nn.Linear(input_size * 9, 1)\n",
        "        self.relu = nn.ReLU()\n",
        "        self.tanh = nn.Tanh()\n",
        "        self.sigmoid = nn.Sigmoid()\n",
        "        self.softmax = nn.Softmax()\n",
        "\n",
        "    def forward(self, x):\n",
        "        out = self.fc1(x)\n",
        "        out = self.relu(out)\n",
        "        out = self.fc2(out)\n",
        "        out = self.sigmoid(out)\n",
        "        return out"
      ],
      "execution_count": null,
      "outputs": []
    },
    {
      "cell_type": "code",
      "metadata": {
        "colab": {
          "base_uri": "https://localhost:8080/",
          "height": 463
        },
        "id": "eoQlHi6n4n_x",
        "outputId": "82b369ce-6881-4729-9de6-d6c54b37b10a"
      },
      "source": [
        "model = NeuralNet(5)\n",
        "\n",
        "model.train()\n",
        "# loss_fun = torch.nn.CrossEntropyLoss(weight= torch.tensor([0.1, 0.9]).float())\n",
        "loss_fun = torch.nn.CrossEntropyLoss()\n",
        "# loss_fun = torch.nn.BCELoss()\n",
        "training_losses = []\n",
        "batch_size = 50\n",
        "\n",
        "optimizer = torch.optim.Adam(model.parameters(), lr=0.0007)\n",
        "\n",
        "for epoch in range(100):\n",
        "\n",
        "    # devide into batches\n",
        "    batches_i = np.split(X_scaled, batch_size)\n",
        "    batches_t = np.split(y, batch_size)\n",
        "\n",
        "    X_trainval, X_test, y_trainval, y_test = train_test_split(X, y, test_size=0.2, stratify=y, random_state=69)\n",
        "\n",
        "    loss = 0  #rm\n",
        "\n",
        "    for batch in range(self.batch_size):\n",
        "        input_tensor_batch = torch.from_numpy(batches_i[batch]).float()\n",
        "        target_tensor_batch = torch.from_numpy(batches_t[batch]).float()\n",
        "        optimizer.zero_grad()\n",
        "        yhat = model(input_tensor_batch).view(-1)  # perform forward propagation\n",
        "        loss = loss_fun(yhat, target_tensor_batch)  # calculate loss\n",
        "        loss.backward()  # perform backward propagation\n",
        "        optimizer.step()  # update params\n",
        "      \n",
        "    training_losses.append(loss.item())\n",
        "\n"
      ],
      "execution_count": null,
      "outputs": [
        {
          "output_type": "error",
          "ename": "ValueError",
          "evalue": "ignored",
          "traceback": [
            "\u001b[0;31m---------------------------------------------------------------------------\u001b[0m",
            "\u001b[0;31mTypeError\u001b[0m                                 Traceback (most recent call last)",
            "\u001b[0;32m/usr/local/lib/python3.7/dist-packages/numpy/lib/shape_base.py\u001b[0m in \u001b[0;36msplit\u001b[0;34m(ary, indices_or_sections, axis)\u001b[0m\n\u001b[1;32m    866\u001b[0m     \u001b[0;32mtry\u001b[0m\u001b[0;34m:\u001b[0m\u001b[0;34m\u001b[0m\u001b[0;34m\u001b[0m\u001b[0m\n\u001b[0;32m--> 867\u001b[0;31m         \u001b[0mlen\u001b[0m\u001b[0;34m(\u001b[0m\u001b[0mindices_or_sections\u001b[0m\u001b[0;34m)\u001b[0m\u001b[0;34m\u001b[0m\u001b[0;34m\u001b[0m\u001b[0m\n\u001b[0m\u001b[1;32m    868\u001b[0m     \u001b[0;32mexcept\u001b[0m \u001b[0mTypeError\u001b[0m\u001b[0;34m:\u001b[0m\u001b[0;34m\u001b[0m\u001b[0;34m\u001b[0m\u001b[0m\n",
            "\u001b[0;31mTypeError\u001b[0m: object of type 'int' has no len()",
            "\nDuring handling of the above exception, another exception occurred:\n",
            "\u001b[0;31mValueError\u001b[0m                                Traceback (most recent call last)",
            "\u001b[0;32m<ipython-input-38-c37f486e9991>\u001b[0m in \u001b[0;36m<module>\u001b[0;34m()\u001b[0m\n\u001b[1;32m     13\u001b[0m \u001b[0;34m\u001b[0m\u001b[0m\n\u001b[1;32m     14\u001b[0m     \u001b[0;31m# devide into batches\u001b[0m\u001b[0;34m\u001b[0m\u001b[0;34m\u001b[0m\u001b[0;34m\u001b[0m\u001b[0m\n\u001b[0;32m---> 15\u001b[0;31m     \u001b[0mbatches_i\u001b[0m \u001b[0;34m=\u001b[0m \u001b[0mnp\u001b[0m\u001b[0;34m.\u001b[0m\u001b[0msplit\u001b[0m\u001b[0;34m(\u001b[0m\u001b[0mX_scaled\u001b[0m\u001b[0;34m,\u001b[0m \u001b[0mbatch_size\u001b[0m\u001b[0;34m)\u001b[0m\u001b[0;34m\u001b[0m\u001b[0;34m\u001b[0m\u001b[0m\n\u001b[0m\u001b[1;32m     16\u001b[0m     \u001b[0mbatches_t\u001b[0m \u001b[0;34m=\u001b[0m \u001b[0mnp\u001b[0m\u001b[0;34m.\u001b[0m\u001b[0msplit\u001b[0m\u001b[0;34m(\u001b[0m\u001b[0my\u001b[0m\u001b[0;34m,\u001b[0m \u001b[0mbatch_size\u001b[0m\u001b[0;34m)\u001b[0m\u001b[0;34m\u001b[0m\u001b[0;34m\u001b[0m\u001b[0m\n\u001b[1;32m     17\u001b[0m \u001b[0;34m\u001b[0m\u001b[0m\n",
            "\u001b[0;32m<__array_function__ internals>\u001b[0m in \u001b[0;36msplit\u001b[0;34m(*args, **kwargs)\u001b[0m\n",
            "\u001b[0;32m/usr/local/lib/python3.7/dist-packages/numpy/lib/shape_base.py\u001b[0m in \u001b[0;36msplit\u001b[0;34m(ary, indices_or_sections, axis)\u001b[0m\n\u001b[1;32m    871\u001b[0m         \u001b[0;32mif\u001b[0m \u001b[0mN\u001b[0m \u001b[0;34m%\u001b[0m \u001b[0msections\u001b[0m\u001b[0;34m:\u001b[0m\u001b[0;34m\u001b[0m\u001b[0;34m\u001b[0m\u001b[0m\n\u001b[1;32m    872\u001b[0m             raise ValueError(\n\u001b[0;32m--> 873\u001b[0;31m                 'array split does not result in an equal division')\n\u001b[0m\u001b[1;32m    874\u001b[0m     \u001b[0;32mreturn\u001b[0m \u001b[0marray_split\u001b[0m\u001b[0;34m(\u001b[0m\u001b[0mary\u001b[0m\u001b[0;34m,\u001b[0m \u001b[0mindices_or_sections\u001b[0m\u001b[0;34m,\u001b[0m \u001b[0maxis\u001b[0m\u001b[0;34m)\u001b[0m\u001b[0;34m\u001b[0m\u001b[0;34m\u001b[0m\u001b[0m\n\u001b[1;32m    875\u001b[0m \u001b[0;34m\u001b[0m\u001b[0m\n",
            "\u001b[0;31mValueError\u001b[0m: array split does not result in an equal division"
          ]
        }
      ]
    },
    {
      "cell_type": "code",
      "metadata": {
        "id": "RmYoqmPheO7i"
      },
      "source": [
        "class MyPrediction(Prediction):\n",
        "    def __init__(self,**parms):\n",
        "        super(MyPrediction, self).__init__(**parms)\n",
        "    \n",
        "    def predict(self,data):\n",
        "        X = data.drop(['target_20'], axis = 1)\n",
        "        X = X[['open_close_sd_10', 'low_close_mean_5', 'IV_30.0_50.0_sd_50','IV_30.0_25.0_sd_50', 'low_close_mean_10']]\n",
        "        scalerX = StandardScaler().fit(X)\n",
        "        X_scaled = scalerX.transform(X)\n",
        "        X_torch = torch.from_numpy(X_scaled).float()\n",
        "        print(model(X_torch).detach().numpy())\n",
        "        return model(X_torch).detach().numpy()"
      ],
      "execution_count": null,
      "outputs": []
    },
    {
      "cell_type": "code",
      "metadata": {
        "id": "DMYSKg1deRPf"
      },
      "source": [
        "Model = MyPrediction()"
      ],
      "execution_count": null,
      "outputs": []
    },
    {
      "cell_type": "code",
      "metadata": {
        "id": "qoqoK_pGeSyX"
      },
      "source": [
        "Model.run_test().to_csv('zzdl_test_prediction.csv', index=False)"
      ],
      "execution_count": null,
      "outputs": []
    },
    {
      "cell_type": "code",
      "metadata": {
        "id": "wUDiUO1HeT7G"
      },
      "source": [
        "Model.run_validate().to_csv('zzdl_validation_prediction.csv', index=False)"
      ],
      "execution_count": null,
      "outputs": []
    },
    {
      "cell_type": "markdown",
      "metadata": {
        "id": "RkN84O3dgfPT"
      },
      "source": [
        "# ESG challenge"
      ]
    },
    {
      "cell_type": "code",
      "metadata": {
        "id": "WFHCC-qSgmq8"
      },
      "source": [
        "from algothon2021esg import EsgChallenge\n",
        "import pandas as pd\n",
        "import numpy as np"
      ],
      "execution_count": null,
      "outputs": []
    },
    {
      "cell_type": "code",
      "metadata": {
        "id": "Uszk6FQfgp7K"
      },
      "source": [
        "validate_path = FOLDER_PATH + 'esg_validate_features.csv'\n",
        "test_path = FOLDER_PATH + 'esg_test_features.csv'"
      ],
      "execution_count": null,
      "outputs": []
    },
    {
      "cell_type": "code",
      "metadata": {
        "id": "jlIQgQiWgs0D"
      },
      "source": [
        "class MyEsgChallenge(EsgChallenge):\n",
        "    def __init__(self,**parms):\n",
        "        super(MyEsgChallenge, self).__init__(**parms)\n",
        "    \n",
        "    def predict(self,data):\n",
        "        self.StockIDs = data[data.columns.get_level_values(0)[-1]].columns\n",
        "        self.nStocks = len(self.StockIDs)\n",
        "        \n",
        "        weights = np.zeros(self.nStocks)\n",
        "        for i, stock in enumerate(self.StockIDs):\n",
        "            if data['esg_filter'][stock].values[0]:\n",
        "                weights[i] = 1\n",
        "        weights /= sum(weights)\n",
        "        return weights"
      ],
      "execution_count": null,
      "outputs": []
    },
    {
      "cell_type": "code",
      "metadata": {
        "id": "YFq2OlyaguDF"
      },
      "source": [
        "Model = MyEsgChallenge(validate_features=validate_path,test_features=test_path)"
      ],
      "execution_count": null,
      "outputs": []
    },
    {
      "cell_type": "code",
      "metadata": {
        "id": "pA0LC-pcgw00"
      },
      "source": [
        "Model.run_validate().to_csv('zzdl_validation_esg.csv', index=False)"
      ],
      "execution_count": null,
      "outputs": []
    },
    {
      "cell_type": "code",
      "metadata": {
        "id": "3xHwbhoNgypo"
      },
      "source": [
        "Model.run_test().to_csv('zzdl_test_esg.csv', index=False)"
      ],
      "execution_count": null,
      "outputs": []
    },
    {
      "cell_type": "markdown",
      "metadata": {
        "id": "_vihR45ADzox"
      },
      "source": [
        "# New Prediction\n"
      ]
    },
    {
      "cell_type": "code",
      "metadata": {
        "id": "lcPkT4CID3iI"
      },
      "source": [
        "from algothon2021prediction import Prediction\n",
        "import numpy as np"
      ],
      "execution_count": null,
      "outputs": []
    },
    {
      "cell_type": "code",
      "metadata": {
        "id": "mtwn0M5TD8zR"
      },
      "source": [
        "class MyPrediction(Prediction):\n",
        "    def __init__(self,**parms):\n",
        "        super(MyPrediction, self).__init__(**parms)\n",
        "    \n",
        "    def predict(self,data):\n",
        "        return np.random.random()"
      ],
      "execution_count": null,
      "outputs": []
    },
    {
      "cell_type": "code",
      "metadata": {
        "id": "irtGF8wyD-oO"
      },
      "source": [
        "Model = MyPrediction()"
      ],
      "execution_count": null,
      "outputs": []
    },
    {
      "cell_type": "code",
      "metadata": {
        "id": "TiuJY5esEA_X"
      },
      "source": [
        "Model.run_test().to_csv('zzdl_test_prediction.csv', index=False)"
      ],
      "execution_count": null,
      "outputs": []
    },
    {
      "cell_type": "code",
      "metadata": {
        "id": "jZnYpSy5EHCd"
      },
      "source": [
        "Model.run_validate().to_csv('zzdl_validation_prediction.csv', index=False)\n"
      ],
      "execution_count": null,
      "outputs": []
    }
  ]
}